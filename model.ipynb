{
 "cells": [
  {
   "cell_type": "code",
   "execution_count": 1,
   "metadata": {},
   "outputs": [],
   "source": [
    "import pandas as pd\n",
    "import numpy as np\n",
    "import csv\n",
    "import random\n",
    "from collections import defaultdict\n",
    "import math\n",
    "import scipy.optimize\n",
    "from sklearn import svm\n",
    "import numpy\n",
    "import string\n",
    "import random\n",
    "import string\n",
    "from sklearn import linear_model, metrics\n",
    "from sklearn.metrics import confusion_matrix\n",
    "from sklearn.model_selection import StratifiedShuffleSplit\n",
    "import matplotlib.pyplot as plt"
   ]
  },
  {
   "cell_type": "code",
   "execution_count": 2,
   "metadata": {},
   "outputs": [],
   "source": [
    "import warnings\n",
    "warnings.filterwarnings(\"ignore\")"
   ]
  },
  {
   "cell_type": "code",
   "execution_count": 296,
   "metadata": {},
   "outputs": [
    {
     "data": {
      "text/html": [
       "<div>\n",
       "<style scoped>\n",
       "    .dataframe tbody tr th:only-of-type {\n",
       "        vertical-align: middle;\n",
       "    }\n",
       "\n",
       "    .dataframe tbody tr th {\n",
       "        vertical-align: top;\n",
       "    }\n",
       "\n",
       "    .dataframe thead th {\n",
       "        text-align: right;\n",
       "    }\n",
       "</style>\n",
       "<table border=\"1\" class=\"dataframe\">\n",
       "  <thead>\n",
       "    <tr style=\"text-align: right;\">\n",
       "      <th></th>\n",
       "      <th>user_id</th>\n",
       "      <th>item_id</th>\n",
       "      <th>playtime_forever</th>\n",
       "      <th>recommend</th>\n",
       "    </tr>\n",
       "  </thead>\n",
       "  <tbody>\n",
       "    <tr>\n",
       "      <th>0</th>\n",
       "      <td>76561197970982479</td>\n",
       "      <td>22200</td>\n",
       "      <td>271</td>\n",
       "      <td>True</td>\n",
       "    </tr>\n",
       "    <tr>\n",
       "      <th>1</th>\n",
       "      <td>76561197970982479</td>\n",
       "      <td>1250</td>\n",
       "      <td>10006</td>\n",
       "      <td>True</td>\n",
       "    </tr>\n",
       "    <tr>\n",
       "      <th>2</th>\n",
       "      <td>76561197970982479</td>\n",
       "      <td>43110</td>\n",
       "      <td>834</td>\n",
       "      <td>True</td>\n",
       "    </tr>\n",
       "    <tr>\n",
       "      <th>3</th>\n",
       "      <td>js41637</td>\n",
       "      <td>227300</td>\n",
       "      <td>551</td>\n",
       "      <td>True</td>\n",
       "    </tr>\n",
       "    <tr>\n",
       "      <th>4</th>\n",
       "      <td>js41637</td>\n",
       "      <td>239030</td>\n",
       "      <td>349</td>\n",
       "      <td>True</td>\n",
       "    </tr>\n",
       "  </tbody>\n",
       "</table>\n",
       "</div>"
      ],
      "text/plain": [
       "             user_id  item_id  playtime_forever  recommend\n",
       "0  76561197970982479    22200               271       True\n",
       "1  76561197970982479     1250             10006       True\n",
       "2  76561197970982479    43110               834       True\n",
       "3            js41637   227300               551       True\n",
       "4            js41637   239030               349       True"
      ]
     },
     "execution_count": 296,
     "metadata": {},
     "output_type": "execute_result"
    }
   ],
   "source": [
    "# train = pd.read_csv('user_item_review_merge_table.csv')\n",
    "train = pd.read_csv('merge_table_drop_na.csv')\n",
    "train.head(5)"
   ]
  },
  {
   "cell_type": "code",
   "execution_count": 3,
   "metadata": {},
   "outputs": [],
   "source": [
    "def splitData(X, y, p1, p2): \n",
    "    X = np.array(X)\n",
    "    y = np.array(y)\n",
    "    sss = StratifiedShuffleSplit(n_splits=5, test_size=p1)\n",
    "    for train_index, test_index in sss.split(X, y):\n",
    "        X_train, X_test = X[train_index], X[test_index]\n",
    "        y_train, y_test = y[train_index], y[test_index]\n",
    "\n",
    "    sss = StratifiedShuffleSplit(n_splits=5, test_size=p2)\n",
    "    X = X_train\n",
    "    y = y_train\n",
    "    for train_index, test_index in sss.split(X, y):\n",
    "        X_train, X_valid = X[train_index], X[test_index]\n",
    "        y_train, y_valid = y[train_index], y[test_index]\n",
    "\n",
    "    print(len(y_train), len(y_valid), len(y_test))\n",
    "    return X_train, y_train, X_valid, y_valid, X_test, y_test\n",
    "    "
   ]
  },
  {
   "cell_type": "markdown",
   "metadata": {},
   "source": [
    "### Bought or NOT"
   ]
  },
  {
   "cell_type": "code",
   "execution_count": 4,
   "metadata": {},
   "outputs": [],
   "source": [
    "def readCSV(path):\n",
    "    with open(path, encoding=\"utf8\") as f:\n",
    "        f.readline()\n",
    "        for l in f:\n",
    "            u,i,t,_,_ = l.strip().split(',')\n",
    "            t = int(t)\n",
    "            yield u,i,t"
   ]
  },
  {
   "cell_type": "code",
   "execution_count": 5,
   "metadata": {},
   "outputs": [
    {
     "data": {
      "text/plain": [
       "2571484"
      ]
     },
     "execution_count": 5,
     "metadata": {},
     "output_type": "execute_result"
    }
   ],
   "source": [
    "timeX = []\n",
    "for l in readCSV('user_item_review_merge_table.csv'):\n",
    "    if l[2] < 1000 and l[2] > 0:\n",
    "        timeX.append(l)\n",
    "len(timeX)"
   ]
  },
  {
   "cell_type": "code",
   "execution_count": 6,
   "metadata": {},
   "outputs": [],
   "source": [
    "n = 800000\n",
    "random.shuffle(timeX)\n",
    "timeX = timeX[:n]"
   ]
  },
  {
   "cell_type": "code",
   "execution_count": 11,
   "metadata": {},
   "outputs": [],
   "source": [
    "times = [t for _,_,t in timeX]"
   ]
  },
  {
   "cell_type": "code",
   "execution_count": 12,
   "metadata": {},
   "outputs": [
    {
     "data": {
      "text/plain": [
       "[28.0, 112.0, 316.0]"
      ]
     },
     "execution_count": 12,
     "metadata": {},
     "output_type": "execute_result"
    }
   ],
   "source": [
    "D = [np.percentile(times,i) for i in [25,50,75]]\n",
    "D"
   ]
  },
  {
   "cell_type": "code",
   "execution_count": 17,
   "metadata": {},
   "outputs": [],
   "source": [
    "def mapping(x):\n",
    "    for i in range(len(D)):\n",
    "        if x <= D[i]:\n",
    "            return i\n",
    "    return len(D)"
   ]
  },
  {
   "cell_type": "code",
   "execution_count": 19,
   "metadata": {},
   "outputs": [
    {
     "data": {
      "text/plain": [
       "3"
      ]
     },
     "execution_count": 19,
     "metadata": {},
     "output_type": "execute_result"
    }
   ],
   "source": [
    "timey = list(map(mapping, times))\n",
    "max(timey)"
   ]
  },
  {
   "cell_type": "code",
   "execution_count": 268,
   "metadata": {},
   "outputs": [],
   "source": [
    "# random.shuffle(allData)"
   ]
  },
  {
   "cell_type": "code",
   "execution_count": 269,
   "metadata": {},
   "outputs": [],
   "source": [
    "# allData = allData[:500000]"
   ]
  },
  {
   "cell_type": "code",
   "execution_count": 270,
   "metadata": {},
   "outputs": [
    {
     "data": {
      "text/plain": [
       "(400000, 450000)"
      ]
     },
     "execution_count": 270,
     "metadata": {},
     "output_type": "execute_result"
    }
   ],
   "source": [
    "# p1 = round(len(allData)*.8)\n",
    "# p2 = round(len(allData)*.9)\n",
    "# p1,p2"
   ]
  },
  {
   "cell_type": "code",
   "execution_count": null,
   "metadata": {},
   "outputs": [],
   "source": [
    "# timeTrain = allData[:p1]\n",
    "# timeValid = allData[p1:p2]\n",
    "# timeTest = allData[p2:]"
   ]
  },
  {
   "cell_type": "code",
   "execution_count": 20,
   "metadata": {},
   "outputs": [
    {
     "name": "stdout",
     "output_type": "stream",
     "text": [
      "612000 108000 80000\n"
     ]
    }
   ],
   "source": [
    "X_train, y_train, X_valid, y_valid, X_test, y_test = splitData(timeX, timey, .1, .15)"
   ]
  },
  {
   "cell_type": "code",
   "execution_count": 21,
   "metadata": {},
   "outputs": [],
   "source": [
    "timePerUser = defaultdict(list)\n",
    "timePerItem = defaultdict(list)\n",
    "for u,i,t in X_train:\n",
    "    timePerUser[u].append((i,t))\n",
    "    timePerItem[i].append((u,t))"
   ]
  },
  {
   "cell_type": "code",
   "execution_count": 22,
   "metadata": {},
   "outputs": [],
   "source": [
    "N = len(X_train)\n",
    "nUsers = len(timePerUser)\n",
    "nItems = len(timePerItem)\n",
    "users = list(timePerUser.keys())\n",
    "items = list(timePerItem.keys())"
   ]
  },
  {
   "cell_type": "code",
   "execution_count": 25,
   "metadata": {},
   "outputs": [
    {
     "data": {
      "text/plain": [
       "(1.497919934640523, 1.0)"
      ]
     },
     "execution_count": 25,
     "metadata": {},
     "output_type": "execute_result"
    }
   ],
   "source": [
    "timeMean = np.mean(y_train)\n",
    "timeMed = np.median(y_train)\n",
    "timeMean, timeMed"
   ]
  },
  {
   "cell_type": "code",
   "execution_count": 276,
   "metadata": {},
   "outputs": [
    {
     "data": {
      "image/png": "[encoded data removed]",
      "text/plain": [
       "<Figure size 432x288 with 1 Axes>"
      ]
     },
     "metadata": {
      "needs_background": "light"
     },
     "output_type": "display_data"
    }
   ],
   "source": [
    "# times2 = [x for x in times if x > 0]\n",
    "# x = plt.hist(times2, bins=100)"
   ]
  },
  {
   "cell_type": "code",
   "execution_count": 80,
   "metadata": {},
   "outputs": [
    {
     "data": {
      "image/png": "[encoded data removed]",
      "text/plain": [
       "<Figure size 432x288 with 1 Axes>"
      ]
     },
     "metadata": {
      "needs_background": "light"
     },
     "output_type": "display_data"
    }
   ],
   "source": [
    "# times2 = [x for x in times if x < 1000 and x > 0]\n",
    "# x = plt.hist(times2, bins=100)"
   ]
  },
  {
   "cell_type": "code",
   "execution_count": 26,
   "metadata": {},
   "outputs": [],
   "source": [
    "alpha = timeMean # median might be better than mean\n",
    "userBiases = defaultdict(float)\n",
    "itemBiases = defaultdict(float)"
   ]
  },
  {
   "cell_type": "code",
   "execution_count": 37,
   "metadata": {},
   "outputs": [],
   "source": [
    "def MSE(predictions, labels):\n",
    "    differences = [(x-y)**2 for x,y in zip(predictions,labels)]\n",
    "    return sum(differences) / len(differences)\n",
    "\n",
    "def inner(x, y):\n",
    "    return sum([a*b for a,b in zip(x,y)])\n",
    "\n",
    "def prediction(user, item):\n",
    "    global userGamma\n",
    "    global itemGamma\n",
    "    return alpha + userBiases[user] + itemBiases[item] + inner(userGamma[user], itemGamma[item])\n",
    "\n",
    "def unpack(theta):\n",
    "    global K\n",
    "    global alpha\n",
    "    global userBiases\n",
    "    global itemBiases\n",
    "    global userGamma\n",
    "    global itemGamma\n",
    "    index = 0\n",
    "    alpha = theta[index]\n",
    "    index += 1\n",
    "    userBiases = dict(zip(users, theta[index:index+nUsers]))\n",
    "    index += nUsers\n",
    "    itemBiases = dict(zip(items, theta[index:index+nItems]))\n",
    "    index += nItems\n",
    "    for u in users:\n",
    "        userGamma[u] = theta[index:index+K]\n",
    "        index += K\n",
    "    for i in items:\n",
    "        itemGamma[i] = theta[index:index+K]\n",
    "        index += K\n",
    "\n",
    "def cost(theta, labels, lamb):\n",
    "    global K\n",
    "    unpack(theta)\n",
    "    predictions = [prediction(d[0], d[1]) for d in X_train]\n",
    "    cost = MSE(predictions, labels)\n",
    "    print(\"MSE = \" + str(cost))\n",
    "    for u in users:\n",
    "        cost += lamb*userBiases[u]**2\n",
    "        for k in range(K):\n",
    "            cost += lamb*userGamma[u][k]**2\n",
    "    for i in items:\n",
    "        cost += lamb*itemBiases[i]**2\n",
    "        for k in range(K):\n",
    "            cost += lamb*itemGamma[i][k]**2\n",
    "    return cost\n",
    "\n",
    "def derivative(theta, labels, lamb):\n",
    "    global K\n",
    "    unpack(theta)\n",
    "    N = len(X_train)\n",
    "    dalpha = 0\n",
    "    dUserBiases = defaultdict(float)\n",
    "    dItemBiases = defaultdict(float)\n",
    "    dUserGamma = {}\n",
    "    dItemGamma = {}\n",
    "    for u in timePerUser:\n",
    "        dUserGamma[u] = [0.0 for k in range(K)]\n",
    "    for i in timePerItem:\n",
    "        dItemGamma[i] = [0.0 for k in range(K)]\n",
    "    for d in X_train:\n",
    "        u,i = d[0], d[1]\n",
    "        pred = prediction(u, i)\n",
    "        diff = pred - int(d[2])\n",
    "        dalpha += 2/N*diff\n",
    "        dUserBiases[u] += 2/N*diff\n",
    "        dItemBiases[i] += 2/N*diff\n",
    "        for k in range(K):\n",
    "            dUserGamma[u][k] += 2/N*itemGamma[i][k]*diff\n",
    "            dItemGamma[i][k] += 2/N*userGamma[u][k]*diff\n",
    "    for u in userBiases:\n",
    "        dUserBiases[u] += 2*lamb*userBiases[u]\n",
    "        for k in range(K):\n",
    "            dUserGamma[u][k] += 2*lamb*userGamma[u][k]\n",
    "    for i in itemBiases:\n",
    "        dItemBiases[i] += 2*lamb*itemBiases[i]\n",
    "        for k in range(K):\n",
    "            dItemGamma[i][k] += 2*lamb*itemGamma[i][k]\n",
    "    dtheta = [dalpha] + [dUserBiases[u] for u in users] + [dItemBiases[i] for i in items]\n",
    "    for u in users:\n",
    "        dtheta += dUserGamma[u]\n",
    "    for i in items:\n",
    "        dtheta += dItemGamma[i]\n",
    "    return numpy.array(dtheta)"
   ]
  },
  {
   "cell_type": "code",
   "execution_count": 33,
   "metadata": {},
   "outputs": [
    {
     "name": "stdout",
     "output_type": "stream",
     "text": [
      "MSE = 1.251357956169918\n",
      "MSE = 2.3405443543450146\n",
      "MSE = 1.3144862774054917\n",
      "MSE = 1.257266449415934\n",
      "MSE = 1.252274896859762\n",
      "MSE = 1.2515368882643685\n",
      "MSE = 1.2513950983907927\n",
      "MSE = 1.2513657735763244\n",
      "MSE = 1.2513596064025336\n",
      "MSE = 1.2513583047492625\n",
      "MSE = 1.2513580298113205\n",
      "MSE = 1.2513579717296293\n",
      "MSE = 1.2513579594595947\n",
      "MSE = 1.2513579568596789\n",
      "MSE = 1.2513579563117518\n",
      "MSE = 1.2513579562092367\n",
      "MSE = 1.2513579561738315\n",
      "MSE = 1.2513579561722856\n",
      "MSE = 1.2513579561746717\n",
      "MSE = 1.2513579561746546\n",
      "MSE = 1.251357956174884\n"
     ]
    },
    {
     "data": {
      "text/plain": [
       "(array([1.54245304, 0.        , 0.        , ..., 0.        , 0.        ,\n",
       "        0.        ]),\n",
       " 1.251357956174884,\n",
       " {'grad': array([-4.24958728e+02, -3.86110340e-02, -3.77475644e-02, ...,\n",
       "         -6.12606363e-04, -2.03090702e-03, -1.38750153e-04]),\n",
       "  'task': 'ABNORMAL_TERMINATION_IN_LNSRCH',\n",
       "  'funcalls': 21,\n",
       "  'nit': 0,\n",
       "  'warnflag': 2})"
      ]
     },
     "execution_count": 33,
     "metadata": {},
     "output_type": "execute_result"
    }
   ],
   "source": [
    "K = 0\n",
    "lamb = 1e-5\n",
    "iter = 50\n",
    "userGamma = {}\n",
    "itemGamma = {}\n",
    "\n",
    "for u in timePerUser:\n",
    "    userGamma[u] = [random.random() * 0.1 - 0.05 for k in range(K)]\n",
    "for i in timePerItem:\n",
    "    itemGamma[i] = [random.random() * 0.1 - 0.05 for k in range(K)]\n",
    "\n",
    "scipy.optimize.fmin_l_bfgs_b(cost, [alpha] + # Initialize alpha\n",
    "                                   [0.0]*(nUsers+nItems) + # Initialize beta\n",
    "                                   [random.random() * 0.1 - 0.05 for k in range(K*(nUsers+nItems))], # Gamma\n",
    "                             derivative, \n",
    "                             args=(y_train, lamb), \n",
    "                             maxiter=iter, \n",
    "                             epsilon=1e-8)"
   ]
  },
  {
   "cell_type": "code",
   "execution_count": 38,
   "metadata": {},
   "outputs": [
    {
     "data": {
      "text/plain": [
       "1.25136803756458"
      ]
     },
     "execution_count": 38,
     "metadata": {},
     "output_type": "execute_result"
    }
   ],
   "source": [
    "yPred = []\n",
    "for u,i,r in X_valid:\n",
    "    try:\n",
    "        yPred.append(prediction(u,i))\n",
    "    except:\n",
    "        yPred.append(alpha)\n",
    "\n",
    "validMSE = MSE(yPred,y_valid)\n",
    "validMSE"
   ]
  },
  {
   "cell_type": "code",
   "execution_count": 39,
   "metadata": {},
   "outputs": [
    {
     "name": "stdout",
     "output_type": "stream",
     "text": [
      "MSE = 1.2513683690656763\n",
      "MSE = 2.341695686059443\n",
      "MSE = 1.3147362647465435\n",
      "MSE = 1.2573274538311132\n",
      "MSE = 1.252295996992673\n",
      "MSE = 1.2515495585536913\n",
      "MSE = 1.251405988070957\n",
      "MSE = 1.2513762871705467\n",
      "MSE = 1.2513700405649317\n",
      "MSE = 1.2513687221353103\n",
      "MSE = 1.2513684436541015\n",
      "MSE = 1.2513683848234367\n",
      "MSE = 1.2513683723947135\n",
      "MSE = 1.251368369768964\n",
      "MSE = 1.2513683692142406\n",
      "MSE = 1.25136836909705\n",
      "MSE = 1.2513683690723016\n",
      "MSE = 1.2513683690670792\n",
      "MSE = 1.2513683690659603\n",
      "MSE = 1.2513683690657396\n",
      "MSE = 1.2513683690656876\n"
     ]
    },
    {
     "data": {
      "text/plain": [
       "(array([ 1.54245304,  0.        ,  0.        , ..., -0.00592699,\n",
       "         0.02992846,  0.03366071]),\n",
       " 1.252494144281765,\n",
       " {'grad': array([-4.24958727e+02, -3.86110448e-02, -3.77476017e-02, ...,\n",
       "          4.89392159e-05, -3.98625171e-06,  4.54244859e-06]),\n",
       "  'task': 'ABNORMAL_TERMINATION_IN_LNSRCH',\n",
       "  'funcalls': 21,\n",
       "  'nit': 0,\n",
       "  'warnflag': 2})"
      ]
     },
     "execution_count": 39,
     "metadata": {},
     "output_type": "execute_result"
    }
   ],
   "source": [
    "K = 2\n",
    "lamb = 1e-5\n",
    "iter = 50\n",
    "\n",
    "userGamma = {}\n",
    "itemGamma = {}\n",
    "\n",
    "for u in timePerUser:\n",
    "    userGamma[u] = [random.random() * 0.1 - 0.05 for k in range(K)]\n",
    "for i in timePerItem:\n",
    "    itemGamma[i] = [random.random() * 0.1 - 0.05 for k in range(K)]\n",
    "\n",
    "scipy.optimize.fmin_l_bfgs_b(cost, [alpha] + # Initialize alpha\n",
    "                                   [0.0]*(nUsers+nItems) + # Initialize beta\n",
    "                                   [random.random() * 0.1 - 0.05 for k in range(K*(nUsers+nItems))], # Gamma\n",
    "                             derivative, \n",
    "                             args=(y_valid, lamb), \n",
    "                             maxiter=iter, \n",
    "                             epsilon=1e-8)"
   ]
  },
  {
   "cell_type": "code",
   "execution_count": 40,
   "metadata": {},
   "outputs": [
    {
     "data": {
      "text/plain": [
       "1.2513781042437102"
      ]
     },
     "execution_count": 40,
     "metadata": {},
     "output_type": "execute_result"
    }
   ],
   "source": [
    "yPred = []\n",
    "for u,i,r in X_valid:\n",
    "    try:\n",
    "        yPred.append(prediction(u,i))\n",
    "    except:\n",
    "        yPred.append(alpha)\n",
    "\n",
    "validMSE = MSE(yPred,y_valid)\n",
    "validMSE"
   ]
  },
  {
   "cell_type": "code",
   "execution_count": 44,
   "metadata": {},
   "outputs": [],
   "source": [
    "predictions = open(\"predictions_time.csv\", 'w')\n",
    "predictions.write('User,\\tItem,\\tPred,\\tTrue'+ '\\n')\n",
    "for u,i,r in X_test:\n",
    "    try:\n",
    "        pred = prediction(u, i)\n",
    "    except:\n",
    "        pred = alpha\n",
    "    # print(pred)\n",
    "    predictions.write(u + ',\\t' + i + ',\\t' + str(pred) + ',\\t' + str(mapping(int(r))) + '\\n')\n",
    "    \n",
    "predictions.close()"
   ]
  },
  {
   "cell_type": "markdown",
   "metadata": {},
   "source": [
    "### PlayafterBuy or NOT"
   ]
  },
  {
   "cell_type": "code",
   "execution_count": 389,
   "metadata": {},
   "outputs": [],
   "source": [
    "def readCSV2(path):\n",
    "    with open(path, encoding=\"utf8\") as f:\n",
    "        f.readline()\n",
    "        for l in f:\n",
    "            u,i,_,p,_ = l.strip().split(',')\n",
    "            p = 1 if p == 'True' else 0\n",
    "            yield u,i,p"
   ]
  },
  {
   "cell_type": "code",
   "execution_count": 211,
   "metadata": {},
   "outputs": [],
   "source": [
    "def Jaccard(s1, s2):\n",
    "    return len(s1.intersection(s2))/len(s1.union(s2))"
   ]
  },
  {
   "cell_type": "code",
   "execution_count": 384,
   "metadata": {},
   "outputs": [],
   "source": [
    "def prepare(Train):\n",
    "    item0Count = defaultdict(int)\n",
    "    item1Count = defaultdict(int)\n",
    "    total0 = 0\n",
    "    total1 = 0\n",
    "    item0PerUser = defaultdict(set)\n",
    "    item1PerUser = defaultdict(set)\n",
    "    userPerItem0 = defaultdict(set)\n",
    "    userPerItem1 = defaultdict(set)\n",
    "    item0Set = set()\n",
    "    item1Set = set()\n",
    "\n",
    "    for u,i,p in Train:    \n",
    "        if int(p):\n",
    "            item1Count[i] += 1\n",
    "            total1 += 1\n",
    "            item1Set.add(i)\n",
    "            item1PerUser[u].add(i)\n",
    "            userPerItem1[i].add(u)\n",
    "        else:\n",
    "            item0Count[i] += 1\n",
    "            total0 += 1\n",
    "            item0Set.add(i)\n",
    "            item0PerUser[u].add(i)\n",
    "            userPerItem0[i].add(u)\n",
    "            \n",
    "    mostPopular0 = [(item0Count[x], x) for x in item0Count]\n",
    "    mostPopular1 = [(item1Count[x], x) for x in item1Count]\n",
    "    mostPopular0.sort()\n",
    "    mostPopular0.reverse()\n",
    "    mostPopular1.sort()\n",
    "    mostPopular1.reverse()\n",
    "\n",
    "    return mostPopular0, mostPopular1, item0PerUser, item1PerUser, userPerItem0, userPerItem1"
   ]
  },
  {
   "cell_type": "code",
   "execution_count": 391,
   "metadata": {},
   "outputs": [
    {
     "data": {
      "text/plain": [
       "5154633"
      ]
     },
     "execution_count": 391,
     "metadata": {},
     "output_type": "execute_result"
    }
   ],
   "source": [
    "playX = []\n",
    "for l in readCSV2('user_item_review_merge_table.csv'):\n",
    "    playX.append(l)\n",
    "len(playX)"
   ]
  },
  {
   "cell_type": "code",
   "execution_count": 392,
   "metadata": {},
   "outputs": [],
   "source": [
    "n = 800000\n",
    "random.shuffle(playX)\n",
    "playX = playX[:n]\n"
   ]
  },
  {
   "cell_type": "code",
   "execution_count": 393,
   "metadata": {},
   "outputs": [],
   "source": [
    "playy = [t for _,_,t in playX]"
   ]
  },
  {
   "cell_type": "code",
   "execution_count": 394,
   "metadata": {},
   "outputs": [
    {
     "name": "stdout",
     "output_type": "stream",
     "text": [
      "612000 108000 80000\n"
     ]
    }
   ],
   "source": [
    "X_train, y_train, X_valid, y_valid, X_test, y_test = splitData(playX, playy, .1, .15)"
   ]
  },
  {
   "cell_type": "code",
   "execution_count": 395,
   "metadata": {},
   "outputs": [],
   "source": [
    "mostPopular0, mostPopular1, game0PerUser, game1PerUser, userPerGame0, userPerGame1 = prepare(X_train)"
   ]
  },
  {
   "cell_type": "code",
   "execution_count": 396,
   "metadata": {},
   "outputs": [
    {
     "data": {
      "text/plain": [
       "(7528, 7412)"
      ]
     },
     "execution_count": 396,
     "metadata": {},
     "output_type": "execute_result"
    }
   ],
   "source": [
    "len(set(mostPopular0)), len(set(mostPopular1))"
   ]
  },
  {
   "cell_type": "code",
   "execution_count": 397,
   "metadata": {},
   "outputs": [
    {
     "data": {
      "text/plain": [
       "[<matplotlib.lines.Line2D at 0x21eb03c8fd0>]"
      ]
     },
     "execution_count": 397,
     "metadata": {},
     "output_type": "execute_result"
    },
    {
     "data": {
      "image/png": "[encoded data removed]",
      "text/plain": [
       "<Figure size 432x288 with 1 Axes>"
      ]
     },
     "metadata": {
      "needs_background": "light"
     },
     "output_type": "display_data"
    }
   ],
   "source": [
    "x = [i for i in range(1, min([len(set(mostPopular0)), len(set(mostPopular1))]), 100)]\n",
    "y = []\n",
    "for n in x:\n",
    "    y.append(len(set([x[1] for x in mostPopular0[:n]]) & set([x[1] for x in mostPopular1[:n]])))\n",
    "\n",
    "plt.plot(x,y)"
   ]
  },
  {
   "cell_type": "code",
   "execution_count": 398,
   "metadata": {},
   "outputs": [],
   "source": [
    "def getPred(X, thres1, output=False):\n",
    "    yPred = []\n",
    "    n = round(min([len(set(mostPopular0)), len(set(mostPopular1))])*thres1)\n",
    "    union = set([x[1] for x in mostPopular0[:n]]) & set([x[1] for x in mostPopular1[:n]])\n",
    "    popularSet0 = set([x[1] for x in mostPopular0[:n]]) - union\n",
    "    popularSet1 = set([x[1] for x in mostPopular1[:n]]) - union\n",
    "\n",
    "    l = len(X)\n",
    "    cnt = 0\n",
    "    for u,i,_ in X:\n",
    "        cnt += 1\n",
    "\n",
    "        if i in popularSet0:\n",
    "            yPred.append(0)\n",
    "            continue\n",
    "        \n",
    "        if i in popularSet1:\n",
    "            yPred.append(1)\n",
    "            continue\n",
    "        \n",
    "        maxSimilarity0 = 0\n",
    "        gSet = set(userPerGame0[i])\n",
    "        for g_prime in game0PerUser[u]:\n",
    "            g_priSet = set(userPerGame0[g_prime])\n",
    "            similarity = Jaccard(gSet, g_priSet)\n",
    "            maxSimilarity0 = max(maxSimilarity0, similarity)\n",
    "        \n",
    "        maxSimilarity1 = 0\n",
    "        gSet = set(userPerGame1[i])\n",
    "        for g_prime in game1PerUser[u]:\n",
    "            g_priSet = set(userPerGame1[g_prime])\n",
    "            similarity = Jaccard(gSet, g_priSet)\n",
    "            maxSimilarity1 = max(maxSimilarity1, similarity)\n",
    "        # print(maxSimilarity0 , maxSimilarity1)\n",
    "        if maxSimilarity0 > maxSimilarity1:\n",
    "            yPred.append(0)\n",
    "            continue\n",
    "      \n",
    "        yPred.append(1)\n",
    "\n",
    "        if output and cnt%1000 == 0:\n",
    "            print(cnt, '/', l)\n",
    "\n",
    "    return yPred"
   ]
  },
  {
   "cell_type": "code",
   "execution_count": 399,
   "metadata": {},
   "outputs": [
    {
     "name": "stdout",
     "output_type": "stream",
     "text": [
      "3000 / 108000\n",
      "4000 / 108000\n",
      "6000 / 108000\n",
      "8000 / 108000\n",
      "10000 / 108000\n",
      "13000 / 108000\n",
      "15000 / 108000\n",
      "18000 / 108000\n",
      "22000 / 108000\n",
      "27000 / 108000\n",
      "29000 / 108000\n",
      "31000 / 108000\n",
      "33000 / 108000\n",
      "34000 / 108000\n",
      "35000 / 108000\n",
      "36000 / 108000\n",
      "37000 / 108000\n",
      "39000 / 108000\n",
      "41000 / 108000\n",
      "45000 / 108000\n",
      "50000 / 108000\n",
      "51000 / 108000\n",
      "55000 / 108000\n",
      "56000 / 108000\n",
      "57000 / 108000\n",
      "60000 / 108000\n",
      "61000 / 108000\n",
      "62000 / 108000\n",
      "63000 / 108000\n",
      "64000 / 108000\n",
      "65000 / 108000\n",
      "67000 / 108000\n",
      "69000 / 108000\n",
      "70000 / 108000\n",
      "71000 / 108000\n",
      "73000 / 108000\n",
      "77000 / 108000\n",
      "80000 / 108000\n",
      "83000 / 108000\n",
      "85000 / 108000\n",
      "91000 / 108000\n",
      "93000 / 108000\n",
      "95000 / 108000\n",
      "97000 / 108000\n",
      "98000 / 108000\n",
      "101000 / 108000\n",
      "102000 / 108000\n",
      "104000 / 108000\n",
      "107000 / 108000\n",
      "108000 / 108000\n"
     ]
    }
   ],
   "source": [
    "thres1 = .025\n",
    "pred = getPred(X_valid, thres1, output=True)"
   ]
  },
  {
   "cell_type": "code",
   "execution_count": 400,
   "metadata": {},
   "outputs": [
    {
     "name": "stdout",
     "output_type": "stream",
     "text": [
      "acc:  0.7426111111111111\n",
      "TN:  26770 FP: 12376 FN:  15422 TP:  53432  |  thres:  0.025\n"
     ]
    }
   ],
   "source": [
    "acc = metrics.accuracy_score(y_valid, pred)\n",
    "TN, FP, FN, TP = confusion_matrix(y_valid, pred).ravel()\n",
    "print('acc: ', acc)\n",
    "print('TN: ', TN, 'FP:', FP, 'FN: ', FN, 'TP: ', TP, ' | ', 'thres: ', thres1)"
   ]
  },
  {
   "cell_type": "code",
   "execution_count": 403,
   "metadata": {},
   "outputs": [
    {
     "name": "stdout",
     "output_type": "stream",
     "text": [
      "------------------------------PlayafterBuy or NOT------------------------------\n",
      "Acc:  0.737175925925926\n",
      "TN:  27315 FP: 11831 FN:  16554 TP:  52300  |  thres:  0.01\n",
      "Acc:  0.7420925925925926\n",
      "TN:  25465 FP: 13681 FN:  14173 TP:  54681  |  thres:  0.05\n",
      "Acc:  0.740574074074074\n",
      "TN:  24363 FP: 14783 FN:  13235 TP:  55619  |  thres:  0.1\n",
      "Acc:  0.7303240740740741\n",
      "TN:  24038 FP: 15108 FN:  14017 TP:  54837  |  thres:  0.3\n",
      "Acc:  0.7245462962962963\n",
      "TN:  23969 FP: 15177 FN:  14572 TP:  54282  |  thres:  0.5\n",
      "Acc:  0.7228240740740741\n",
      "TN:  23967 FP: 15179 FN:  14756 TP:  54098  |  thres:  0.7\n",
      "Acc:  0.7223611111111111\n",
      "TN:  24019 FP: 15127 FN:  14858 TP:  53996  |  thres:  0.9\n"
     ]
    }
   ],
   "source": [
    "thresLst = [.01,.05,.1,.3,.5,.7,.9]\n",
    "print('-'*30+'PlayafterBuy or NOT'+'-'*30)\n",
    "for thres in thresLst:\n",
    "    pred = getPred(X_valid, thres)\n",
    "    acc = metrics.accuracy_score(y_valid, pred)\n",
    "    TN, FP, FN, TP = confusion_matrix(y_valid, pred).ravel()\n",
    "    print('Acc: ', acc)\n",
    "    print('TN: ', TN, 'FP:', FP, 'FN: ', FN, 'TP: ', TP, ' | ', 'thres: ', thres)\n"
   ]
  },
  {
   "cell_type": "code",
   "execution_count": 262,
   "metadata": {},
   "outputs": [
    {
     "name": "stdout",
     "output_type": "stream",
     "text": [
      "acc:  0.73302\n",
      "TN:  11054 FP: 7067 FN:  6282 TP:  25597  |  thres:  0.05\n"
     ]
    }
   ],
   "source": [
    "thres = .05\n",
    "pred = getPred(X_test, thres)\n",
    "acc = metrics.accuracy_score(y_test, pred)\n",
    "TN, FP, FN, TP = confusion_matrix(y_test, pred).ravel()\n",
    "print('acc: ', acc)\n",
    "print('TN: ', TN, 'FP:', FP, 'FN: ', FN, 'TP: ', TP, ' | ', 'thres: ', thres)"
   ]
  },
  {
   "cell_type": "markdown",
   "metadata": {},
   "source": [
    "### Recommend or NOT"
   ]
  },
  {
   "cell_type": "code",
   "execution_count": 404,
   "metadata": {},
   "outputs": [],
   "source": [
    "def readCSV3(path):\n",
    "    with open(path, encoding=\"utf8\") as f:\n",
    "        f.readline()\n",
    "        for l in f:\n",
    "            u,i,_,r = l.strip().split(',')\n",
    "            r = 1 if r == 'True' else 0\n",
    "            yield u,i,r"
   ]
  },
  {
   "cell_type": "code",
   "execution_count": 405,
   "metadata": {},
   "outputs": [
    {
     "data": {
      "text/plain": [
       "46317"
      ]
     },
     "execution_count": 405,
     "metadata": {},
     "output_type": "execute_result"
    }
   ],
   "source": [
    "recX = []\n",
    "recy = []\n",
    "for l in readCSV3('merge_table_drop_na.csv'):\n",
    "    recX.append(l)\n",
    "    recy.append(l[2])\n",
    "len(recy)"
   ]
  },
  {
   "cell_type": "code",
   "execution_count": 406,
   "metadata": {},
   "outputs": [
    {
     "name": "stdout",
     "output_type": "stream",
     "text": [
      "35432 6253 4632\n"
     ]
    }
   ],
   "source": [
    "X_train, y_train, X_valid, y_valid, X_test, y_test = splitData(recX, recy, .1, .15)"
   ]
  },
  {
   "cell_type": "code",
   "execution_count": 407,
   "metadata": {},
   "outputs": [
    {
     "data": {
      "text/plain": [
       "array([['76561198088807138', '49520', '1'],\n",
       "       ['CriticalTiming', '250600', '1'],\n",
       "       ['76561198051096646', '212200', '0'],\n",
       "       ...,\n",
       "       ['blackviper8881', '4000', '1'],\n",
       "       ['76561198073808757', '230410', '0'],\n",
       "       ['PuppyxKitten', '262060', '1']], dtype='<U32')"
      ]
     },
     "execution_count": 407,
     "metadata": {},
     "output_type": "execute_result"
    }
   ],
   "source": [
    "X_train"
   ]
  },
  {
   "cell_type": "code",
   "execution_count": 408,
   "metadata": {},
   "outputs": [
    {
     "data": {
      "text/plain": [
       "0.8889176760152859"
      ]
     },
     "execution_count": 408,
     "metadata": {},
     "output_type": "execute_result"
    }
   ],
   "source": [
    "sum(np.array(recy))/len(recy)"
   ]
  },
  {
   "cell_type": "code",
   "execution_count": 409,
   "metadata": {},
   "outputs": [],
   "source": [
    "mostPopular0, mostPopular1, game0PerUser, game1PerUser, userPerGame0, userPerGame1 = prepare(X_train)"
   ]
  },
  {
   "cell_type": "code",
   "execution_count": 410,
   "metadata": {},
   "outputs": [
    {
     "data": {
      "text/plain": [
       "(1087, 2536)"
      ]
     },
     "execution_count": 410,
     "metadata": {},
     "output_type": "execute_result"
    }
   ],
   "source": [
    "len(set(mostPopular0)), len(set(mostPopular1))"
   ]
  },
  {
   "cell_type": "code",
   "execution_count": 411,
   "metadata": {},
   "outputs": [
    {
     "data": {
      "text/plain": [
       "[<matplotlib.lines.Line2D at 0x21e97a4fc70>]"
      ]
     },
     "execution_count": 411,
     "metadata": {},
     "output_type": "execute_result"
    },
    {
     "data": {
      "image/png": "[encoded data removed]",
      "text/plain": [
       "<Figure size 432x288 with 1 Axes>"
      ]
     },
     "metadata": {
      "needs_background": "light"
     },
     "output_type": "display_data"
    }
   ],
   "source": [
    "x = [i for i in range(1, min([len(set(mostPopular0)), len(set(mostPopular1))]), 100)]\n",
    "y = []\n",
    "for n in x:\n",
    "    y.append(len(set([x[1] for x in mostPopular0[:n]]) & set([x[1] for x in mostPopular1[:n]])))\n",
    "\n",
    "plt.plot(x,y)"
   ]
  },
  {
   "cell_type": "code",
   "execution_count": 412,
   "metadata": {},
   "outputs": [
    {
     "name": "stdout",
     "output_type": "stream",
     "text": [
      "------------------------------Recommend or NOT------------------------------\n",
      "acc:  0.8795778026547257\n",
      "TN:  92 FP: 603 FN:  150 TP:  5408  |  thres:  0.01\n",
      "acc:  0.8695026387334079\n",
      "TN:  160 FP: 535 FN:  281 TP:  5277  |  thres:  0.05\n",
      "acc:  0.8706221013913321\n",
      "TN:  160 FP: 535 FN:  274 TP:  5284  |  thres:  0.1\n",
      "acc:  0.8717415640492564\n",
      "TN:  117 FP: 578 FN:  224 TP:  5334  |  thres:  0.3\n",
      "acc:  0.8760594914441068\n",
      "TN:  107 FP: 588 FN:  187 TP:  5371  |  thres:  0.5\n",
      "acc:  0.8813369582600352\n",
      "TN:  88 FP: 607 FN:  135 TP:  5423  |  thres:  0.7\n",
      "acc:  0.8818167279705741\n",
      "TN:  89 FP: 606 FN:  133 TP:  5425  |  thres:  0.9\n"
     ]
    }
   ],
   "source": [
    "thresLst = [.01,.05,.1,.3,.5,.7,.9]\n",
    "print('-'*30+'Recommend or NOT'+'-'*30)\n",
    "for thres in thresLst:\n",
    "    pred = getPred(X_valid, thres)\n",
    "    acc = metrics.accuracy_score(y_valid, pred)\n",
    "    TN, FP, FN, TP = confusion_matrix(y_valid, pred).ravel()\n",
    "    print('acc: ', acc)\n",
    "    print('TN: ', TN, 'FP:', FP, 'FN: ', FN, 'TP: ', TP, ' | ', 'thres: ', thres)"
   ]
  }
 ],
 "metadata": {
  "kernelspec": {
   "display_name": "Python 3.9.10 64-bit",
   "language": "python",
   "name": "python3"
  },
  "language_info": {
   "codemirror_mode": {
    "name": "ipython",
    "version": 3
   },
   "file_extension": ".py",
   "mimetype": "text/x-python",
   "name": "python",
   "nbconvert_exporter": "python",
   "pygments_lexer": "ipython3",
   "version": "3.9.10"
  },
  "orig_nbformat": 4,
  "vscode": {
   "interpreter": {
    "hash": "1dc33afe90aee2a9f05b2fbe485d124ff16f114a353c4781f3dc5fabdab27024"
   }
  }
 },
 "nbformat": 4,
 "nbformat_minor": 2
}
